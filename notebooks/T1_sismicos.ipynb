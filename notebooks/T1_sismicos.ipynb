{
 "cells": [
  {
   "cell_type": "code",
   "execution_count": 1,
   "id": "adb35b1d",
   "metadata": {},
   "outputs": [],
   "source": [
    "import pandas as pd\n",
    "df = pd.read_csv('../data/external/sismicos-publicos-2023.csv', sep=';', encoding='utf-8')"
   ]
  },
  {
   "cell_type": "code",
   "execution_count": null,
   "id": "5c1ba29b",
   "metadata": {},
   "outputs": [
    {
     "name": "stdout",
     "output_type": "stream",
     "text": [
      "(Linhas, Colunas) (52, 15)\n",
      "\n",
      "Nomenclatura das Colunas: ['Nome', 'Categoria', 'Tipo', 'Autorização', 'Inicio', 'Término Real', 'Confidencialidade', 'Público em', 'Ato Normativo', 'Tecnologia', 'Bloco', 'Campo', 'Bacia', 'E.A.D', 'Operadora']\n"
     ]
    }
   ],
   "source": [
    "print(\"(Linhas, Colunas)\", df.shape)"
   ]
  },
  {
   "cell_type": "code",
   "execution_count": null,
   "id": "3134a0cf",
   "metadata": {},
   "outputs": [],
   "source": [
    "print(\"\\nNomenclatura das Colunas:\", df.columns.tolist())"
   ]
  },
  {
   "cell_type": "code",
   "execution_count": 6,
   "id": "614c3581",
   "metadata": {},
   "outputs": [
    {
     "name": "stdout",
     "output_type": "stream",
     "text": [
      "\n",
      "Tipos de dados:\n",
      " Nome                  object\n",
      "Categoria             object\n",
      "Tipo                  object\n",
      "Autorização          float64\n",
      "Inicio                object\n",
      "Término Real          object\n",
      "Confidencialidade     object\n",
      "Público em            object\n",
      "Ato Normativo         object\n",
      "Tecnologia            object\n",
      "Bloco                 object\n",
      "Campo                 object\n",
      "Bacia                 object\n",
      "E.A.D                 object\n",
      "Operadora             object\n",
      "dtype: object\n"
     ]
    }
   ],
   "source": [
    "print(\"\\nTipos de dados:\\n\", df.dtypes)"
   ]
  },
  {
   "cell_type": "code",
   "execution_count": 7,
   "id": "259ca8af",
   "metadata": {},
   "outputs": [
    {
     "name": "stdout",
     "output_type": "stream",
     "text": [
      "\n",
      "Valores nulos por coluna:\n",
      " Nome                  0\n",
      "Categoria             0\n",
      "Tipo                  0\n",
      "Autorização          52\n",
      "Inicio                0\n",
      "Término Real          0\n",
      "Confidencialidade     0\n",
      "Público em            0\n",
      "Ato Normativo         0\n",
      "Tecnologia            0\n",
      "Bloco                 0\n",
      "Campo                 0\n",
      "Bacia                 0\n",
      "E.A.D                 0\n",
      "Operadora             0\n",
      "dtype: int64\n"
     ]
    }
   ],
   "source": [
    "print(\"\\nValores nulos por coluna:\\n\", df.isnull().sum())"
   ]
  },
  {
   "cell_type": "code",
   "execution_count": 8,
   "id": "e6596f50",
   "metadata": {},
   "outputs": [
    {
     "name": "stdout",
     "output_type": "stream",
     "text": [
      "\n",
      "Estatísticas descritivas:\n",
      "                           Nome        Categoria       Tipo  Autorização  \\\n",
      "count                       52               52         52          0.0   \n",
      "unique                      52                2          1          NaN   \n",
      "top     0263_3D_NODES_LIBRA_NW  Reprocessamento  Exclusivo          NaN   \n",
      "freq                         1               45         52          NaN   \n",
      "mean                       NaN              NaN        NaN          NaN   \n",
      "std                        NaN              NaN        NaN          NaN   \n",
      "min                        NaN              NaN        NaN          NaN   \n",
      "25%                        NaN              NaN        NaN          NaN   \n",
      "50%                        NaN              NaN        NaN          NaN   \n",
      "75%                        NaN              NaN        NaN          NaN   \n",
      "max                        NaN              NaN        NaN          NaN   \n",
      "\n",
      "            Inicio Término Real Confidencialidade  Público em Ato Normativo  \\\n",
      "count           52           52                52          52            52   \n",
      "unique          48           46                 2          46             3   \n",
      "top     13/11/2017   10/01/2018      Confidencial  10/01/2023   Res. 1/2015   \n",
      "freq             3            3                47           3            35   \n",
      "mean           NaN          NaN               NaN         NaN           NaN   \n",
      "std            NaN          NaN               NaN         NaN           NaN   \n",
      "min            NaN          NaN               NaN         NaN           NaN   \n",
      "25%            NaN          NaN               NaN         NaN           NaN   \n",
      "50%            NaN          NaN               NaN         NaN           NaN   \n",
      "75%            NaN          NaN               NaN         NaN           NaN   \n",
      "max            NaN          NaN               NaN         NaN           NaN   \n",
      "\n",
      "                          Tecnologia            Bloco        Campo  \\\n",
      "count                             52               52           52   \n",
      "unique                             9               20           16   \n",
      "top     Reproc. de Dados Sísmicos 3D  (NÃO INFORMADO)  (múltiplos)   \n",
      "freq                              16               19           21   \n",
      "mean                             NaN              NaN          NaN   \n",
      "std                              NaN              NaN          NaN   \n",
      "min                              NaN              NaN          NaN   \n",
      "25%                              NaN              NaN          NaN   \n",
      "50%                              NaN              NaN          NaN   \n",
      "75%                              NaN              NaN          NaN   \n",
      "max                              NaN              NaN          NaN   \n",
      "\n",
      "                  Bacia      E.A.D  Operadora  \n",
      "count                52         52         52  \n",
      "unique               14         11          8  \n",
      "top     (NÃO INFORMADA)  Petrobras  Petrobras  \n",
      "freq                 15         36         41  \n",
      "mean                NaN        NaN        NaN  \n",
      "std                 NaN        NaN        NaN  \n",
      "min                 NaN        NaN        NaN  \n",
      "25%                 NaN        NaN        NaN  \n",
      "50%                 NaN        NaN        NaN  \n",
      "75%                 NaN        NaN        NaN  \n",
      "max                 NaN        NaN        NaN  \n"
     ]
    }
   ],
   "source": [
    "print(\"\\nEstatísticas descritivas:\\n\", df.describe(include='all'))"
   ]
  }
 ],
 "metadata": {
  "kernelspec": {
   "display_name": ".venv",
   "language": "python",
   "name": "python3"
  },
  "language_info": {
   "codemirror_mode": {
    "name": "ipython",
    "version": 3
   },
   "file_extension": ".py",
   "mimetype": "text/x-python",
   "name": "python",
   "nbconvert_exporter": "python",
   "pygments_lexer": "ipython3",
   "version": "3.13.7"
  }
 },
 "nbformat": 4,
 "nbformat_minor": 5
}
