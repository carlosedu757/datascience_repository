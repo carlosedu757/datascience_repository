{
 "cells": [
  {
   "cell_type": "code",
   "execution_count": null,
   "id": "3d07f982",
   "metadata": {},
   "outputs": [],
   "source": [
    "import pandas as pd\n",
    "df = pd.read_csv('../data/external/Folha de Pagamento Bolsa Atleta Julho.csv', sep=';', encoding='utf-8')"
   ]
  },
  {
   "cell_type": "code",
   "execution_count": null,
   "id": "a6929974",
   "metadata": {},
   "outputs": [],
   "source": [
    "print(\"(Linhas, Colunas)\", df.shape)"
   ]
  },
  {
   "cell_type": "code",
   "execution_count": null,
   "id": "ff1ccfcf",
   "metadata": {},
   "outputs": [],
   "source": [
    "print(\"\\nNomenclatura das Colunas:\", df.columns.tolist())"
   ]
  },
  {
   "cell_type": "code",
   "execution_count": null,
   "id": "d392f465",
   "metadata": {},
   "outputs": [],
   "source": [
    "print(\"\\nTipos de dados:\\n\", df.dtypes)"
   ]
  },
  {
   "cell_type": "code",
   "execution_count": null,
   "id": "874df1df",
   "metadata": {},
   "outputs": [],
   "source": [
    "print(\"\\nValores nulos por coluna:\\n\", df.isnull().sum())"
   ]
  },
  {
   "cell_type": "code",
   "execution_count": null,
   "id": "d732cae7",
   "metadata": {},
   "outputs": [],
   "source": [
    "print(\"\\nEstatísticas descritivas:\\n\", df.describe(include='all'))"
   ]
  }
 ],
 "metadata": {
  "kernelspec": {
   "display_name": ".venv",
   "language": "python",
   "name": "python3"
  },
  "language_info": {
   "codemirror_mode": {
    "name": "ipython",
    "version": 3
   },
   "file_extension": ".py",
   "mimetype": "text/x-python",
   "name": "python",
   "nbconvert_exporter": "python",
   "pygments_lexer": "ipython3",
   "version": "3.13.7"
  }
 },
 "nbformat": 4,
 "nbformat_minor": 5
}
